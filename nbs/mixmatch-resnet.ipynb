{
 "cells": [
  {
   "cell_type": "markdown",
   "metadata": {},
   "source": [
    "<h1> MixMatch"
   ]
  },
  {
   "cell_type": "code",
   "execution_count": 1,
   "metadata": {},
   "outputs": [],
   "source": [
    "%reload_ext autoreload\n",
    "%autoreload 2\n",
    "\n",
    "from IPython.core.interactiveshell import InteractiveShell\n",
    "InteractiveShell.ast_node_interactivity = 'all'"
   ]
  },
  {
   "cell_type": "code",
   "execution_count": 2,
   "metadata": {},
   "outputs": [],
   "source": [
    "from fastai.vision import *\n",
    "from fastai.callbacks import SaveModelCallback, EarlyStoppingCallback, CSVLogger\n",
    "from CinemaNet.train_utils import *\n",
    "from CinemaNet.custom_head import *\n",
    "from CinemaNet.wandb import *\n",
    "from CinemaNet.MixMatch import *\n",
    "\n",
    "import wandb"
   ]
  },
  {
   "cell_type": "code",
   "execution_count": 3,
   "metadata": {},
   "outputs": [
    {
     "data": {
      "text/html": [
       "\n",
       "                Logging results to <a href=\"https://wandb.com\" target=\"_blank\">Weights & Biases</a> <a href=\"https://docs.wandb.com/integrations/jupyter.html\" target=\"_blank\">(Documentation)</a>.<br/>\n",
       "                Project page: <a href=\"https://app.wandb.ai/synopsis/shot-framing\" target=\"_blank\">https://app.wandb.ai/synopsis/shot-framing</a><br/>\n",
       "                Run page: <a href=\"https://app.wandb.ai/synopsis/shot-framing/runs/b1u6juen\" target=\"_blank\">https://app.wandb.ai/synopsis/shot-framing/runs/b1u6juen</a><br/>\n",
       "            "
      ],
      "text/plain": [
       "<IPython.core.display.HTML object>"
      ]
     },
     "metadata": {},
     "output_type": "display_data"
    },
    {
     "name": "stderr",
     "output_type": "stream",
     "text": [
      "Failed to query for notebook name, you can set it manually with the WANDB_NOTEBOOK_NAME environment variable\n",
      "Error generating diff: Command '['git', 'diff', '--submodule=diff', '747359307a168f411ffb9fcfe9d768f1d7920bfd']' timed out after 5 seconds\n"
     ]
    },
    {
     "data": {
      "text/plain": [
       "W&B Run: https://app.wandb.ai/synopsis/shot-framing/runs/b1u6juen"
      ]
     },
     "execution_count": 3,
     "metadata": {},
     "output_type": "execute_result"
    }
   ],
   "source": [
    "#hide\n",
    "wandb.init(name='mixmatch-resnet',\n",
    "           project='shot-framing',\n",
    "           tags=['WideResNet', 'MixMatch', 'fastai', 'PyTorch'],\n",
    "           entity='synopsis',\n",
    "           reinit=True)"
   ]
  },
  {
   "cell_type": "code",
   "execution_count": 4,
   "metadata": {},
   "outputs": [
    {
     "name": "stdout",
     "output_type": "stream",
     "text": [
      "env: WANDB_NOTEBOOK_NAME='mixmatch-resnet.ipynb'\n"
     ]
    }
   ],
   "source": [
    "#hide\n",
    "%env WANDB_NOTEBOOK_NAME='mixmatch-resnet.ipynb'"
   ]
  },
  {
   "cell_type": "markdown",
   "metadata": {},
   "source": [
    "## Setup\n",
    "\n",
    "Since MixMatch is all about using a little labelled data + lots of unlabelled data, we're gonna swap the train and valid datasets. This way, we have 600 labelled images (100 per class), and 5505 validation images. The unlabelled images will come from the rest of the FilmGrab dataset."
   ]
  },
  {
   "cell_type": "code",
   "execution_count": 5,
   "metadata": {},
   "outputs": [],
   "source": [
    "path = Path('/home/rahul/github_projects/CinemaNet/')"
   ]
  },
  {
   "cell_type": "code",
   "execution_count": 6,
   "metadata": {},
   "outputs": [
    {
     "name": "stderr",
     "output_type": "stream",
     "text": [
      "Error generating diff: Command '['git', 'diff', '--submodule=diff', '747359307a168f411ffb9fcfe9d768f1d7920bfd']' timed out after 5 seconds\n"
     ]
    }
   ],
   "source": [
    "config = wandb.config\n",
    "\n",
    "config.img_size=to_film_ar(150)\n",
    "config.batch_size=8\n",
    "config.model='WideResNet'\n",
    "config.mixup='True'\n",
    "config.mixmatch='True'"
   ]
  },
  {
   "cell_type": "code",
   "execution_count": 8,
   "metadata": {},
   "outputs": [],
   "source": [
    "data = ImageDataBunch.from_folder(path, \n",
    "                                  train='valid', valid='train', # swapping train & valid datasets\n",
    "                                  bs = config.batch_size,\n",
    "                                  size = tuple(config.img_size),\n",
    "                                  ds_tfms = get_transforms(max_zoom=1.),\n",
    "                                  resize_method = ResizeMethod.SQUISH\n",
    "                                 ).normalize(imagenet_stats) "
   ]
  },
  {
   "cell_type": "code",
   "execution_count": 9,
   "metadata": {},
   "outputs": [
    {
     "data": {
      "text/plain": [
       "6"
      ]
     },
     "execution_count": 9,
     "metadata": {},
     "output_type": "execute_result"
    },
    {
     "data": {
      "text/plain": [
       "ImageDataBunch;\n",
       "\n",
       "Train: LabelList (600 items)\n",
       "x: ImageList\n",
       "Image (3, 150, 266),Image (3, 150, 266),Image (3, 150, 266),Image (3, 150, 266),Image (3, 150, 266)\n",
       "y: CategoryList\n",
       "Medium,Medium,Medium,Medium,Medium\n",
       "Path: /home/rahul/github_projects/CinemaNet;\n",
       "\n",
       "Valid: LabelList (5505 items)\n",
       "x: ImageList\n",
       "Image (3, 150, 266),Image (3, 150, 266),Image (3, 150, 266),Image (3, 150, 266),Image (3, 150, 266)\n",
       "y: CategoryList\n",
       "Medium,Medium,Medium,Medium,Medium\n",
       "Path: /home/rahul/github_projects/CinemaNet;\n",
       "\n",
       "Test: None"
      ]
     },
     "execution_count": 9,
     "metadata": {},
     "output_type": "execute_result"
    }
   ],
   "source": [
    "data.c\n",
    "data"
   ]
  },
  {
   "cell_type": "code",
   "execution_count": 11,
   "metadata": {},
   "outputs": [
    {
     "data": {
      "text/plain": [
       "8"
      ]
     },
     "execution_count": 11,
     "metadata": {},
     "output_type": "execute_result"
    },
    {
     "data": {
      "text/plain": [
       "8"
      ]
     },
     "execution_count": 11,
     "metadata": {},
     "output_type": "execute_result"
    }
   ],
   "source": [
    "data.train_dl.batch_size\n",
    "data.valid_dl.batch_size"
   ]
  },
  {
   "cell_type": "code",
   "execution_count": 12,
   "metadata": {},
   "outputs": [
    {
     "name": "stdout",
     "output_type": "stream",
     "text": [
      "\u001b[0m\u001b[01;34mCinemaNet\u001b[0m/                               \u001b[34;42mfilmgrab\u001b[0m/  settings.ini  \u001b[34;42mvalid\u001b[0m/\r\n",
      "LICENSE                                  \u001b[01;34mmodels\u001b[0m/    setup.py      \u001b[01;34mwandb\u001b[0m/\r\n",
      "WideResNet-img_100-MixMatch-history.csv  \u001b[01;34mnbs\u001b[0m/       \u001b[34;42mtrain\u001b[0m/\r\n"
     ]
    }
   ],
   "source": [
    "ls ../"
   ]
  },
  {
   "cell_type": "code",
   "execution_count": 13,
   "metadata": {},
   "outputs": [
    {
     "data": {
      "text/plain": [
       "ImageList (95329 items)\n",
       "Image (3, 576, 1024),Image (3, 576, 1024),Image (3, 576, 1024),Image (3, 576, 1024),Image (3, 576, 1024)\n",
       "Path: /home/rahul/github_projects/CinemaNet/filmgrab"
      ]
     },
     "execution_count": 13,
     "metadata": {},
     "output_type": "execute_result"
    }
   ],
   "source": [
    "data_unlabelled = ImageList.from_folder(path/'filmgrab')\n",
    "data_unlabelled"
   ]
  },
  {
   "cell_type": "code",
   "execution_count": 14,
   "metadata": {},
   "outputs": [
    {
     "name": "stderr",
     "output_type": "stream",
     "text": [
      "Error generating diff: Command '['git', 'diff', '--submodule=diff', '747359307a168f411ffb9fcfe9d768f1d7920bfd']' timed out after 5 seconds\n"
     ]
    }
   ],
   "source": [
    "config.valid_size = len(data.valid_ds)\n",
    "config.train_size = len(data.train_ds)\n",
    "config.unlabelled_size = len(data_unlabelled)"
   ]
  },
  {
   "cell_type": "code",
   "execution_count": 12,
   "metadata": {},
   "outputs": [
    {
     "data": {
      "image/png": "[encoded data removed]",
      "text/plain": [
       "<Figure size 576x576 with 4 Axes>"
      ]
     },
     "metadata": {
      "needs_background": "light"
     },
     "output_type": "display_data"
    }
   ],
   "source": [
    "data.show_batch(rows=2)"
   ]
  },
  {
   "cell_type": "markdown",
   "metadata": {},
   "source": [
    "### MixMatch"
   ]
  },
  {
   "cell_type": "code",
   "execution_count": 15,
   "metadata": {},
   "outputs": [],
   "source": [
    "model = models.WideResNet(num_groups=3, N=4, num_classes=data.c, k=2, start_nf=32)\n",
    "learn = Learner(data, model, metrics=metrics).mixmatch(data_unlabelled, α=.75, λ=75, size=config.img_size)"
   ]
  },
  {
   "cell_type": "code",
   "execution_count": 16,
   "metadata": {},
   "outputs": [
    {
     "data": {
      "text/plain": [
       "ImageDataBunch;\n",
       "\n",
       "Train: MultiTfmLabelList (95329 items)\n",
       "x: ImageList\n",
       "[Image (3, 150, 266), Image (3, 150, 266)],[Image (3, 150, 266), Image (3, 150, 266)],[Image (3, 150, 266), Image (3, 150, 266)],[Image (3, 150, 266), Image (3, 150, 266)],[Image (3, 150, 266), Image (3, 150, 266)]\n",
       "y: EmptyLabelList\n",
       ",,,,\n",
       "Path: /home/rahul/github_projects/CinemaNet/filmgrab;\n",
       "\n",
       "Valid: LabelList (5505 items)\n",
       "x: ImageList\n",
       "Image (3, 150, 266),Image (3, 150, 266),Image (3, 150, 266),Image (3, 150, 266),Image (3, 150, 266)\n",
       "y: CategoryList\n",
       "Medium,Medium,Medium,Medium,Medium\n",
       "Path: /home/rahul/github_projects/CinemaNet;\n",
       "\n",
       "Test: None"
      ]
     },
     "execution_count": 16,
     "metadata": {},
     "output_type": "execute_result"
    }
   ],
   "source": [
    "learn.data"
   ]
  },
  {
   "cell_type": "code",
   "execution_count": 17,
   "metadata": {},
   "outputs": [
    {
     "data": {
      "text/plain": [
       "8"
      ]
     },
     "execution_count": 17,
     "metadata": {},
     "output_type": "execute_result"
    }
   ],
   "source": [
    "learn.data.batch_size"
   ]
  },
  {
   "cell_type": "raw",
   "metadata": {},
   "source": [
    "learn.data.batch_size=8"
   ]
  },
  {
   "cell_type": "code",
   "execution_count": 18,
   "metadata": {},
   "outputs": [
    {
     "data": {
      "text/plain": [
       "8"
      ]
     },
     "execution_count": 18,
     "metadata": {},
     "output_type": "execute_result"
    },
    {
     "data": {
      "text/plain": [
       "16"
      ]
     },
     "execution_count": 18,
     "metadata": {},
     "output_type": "execute_result"
    }
   ],
   "source": [
    "learn.data.train_dl.batch_size\n",
    "learn.data.valid_dl.batch_size"
   ]
  },
  {
   "cell_type": "code",
   "execution_count": null,
   "metadata": {},
   "outputs": [],
   "source": []
  },
  {
   "cell_type": "code",
   "execution_count": 19,
   "metadata": {},
   "outputs": [],
   "source": [
    "import functools, traceback\n",
    "def gpu_mem_restore(func):\n",
    "    \"Reclaim GPU RAM if CUDA out of memory happened, or execution was interrupted\"\n",
    "    @functools.wraps(func)\n",
    "    def wrapper(*args, **kwargs):\n",
    "        try:\n",
    "            return func(*args, **kwargs)\n",
    "        except:\n",
    "            type, val, tb = sys.exc_info()\n",
    "            traceback.clear_frames(tb)\n",
    "            raise type(val).with_traceback(tb) from None\n",
    "    return wrapper"
   ]
  },
  {
   "cell_type": "code",
   "execution_count": 20,
   "metadata": {},
   "outputs": [],
   "source": [
    "class gpu_mem_restore_ctx():\n",
    "    \" context manager to reclaim GPU RAM if CUDA out of memory happened, or execution was interrupted\"\n",
    "    def __enter__(self): return self\n",
    "    def __exit__(self, exc_type, exc_val, exc_tb):\n",
    "        if not exc_val: return True\n",
    "        traceback.clear_frames(exc_tb)\n",
    "        raise exc_type(exc_val).with_traceback(exc_tb) from None"
   ]
  },
  {
   "cell_type": "code",
   "execution_count": 21,
   "metadata": {},
   "outputs": [],
   "source": [
    "torch.cuda.empty_cache()"
   ]
  },
  {
   "cell_type": "code",
   "execution_count": 22,
   "metadata": {},
   "outputs": [
    {
     "name": "stdout",
     "output_type": "stream",
     "text": [
      "labeled dataset     :           600 samples\n",
      "unlabeled dataset   :        95,329 samples\n",
      "total train samples :       285,984 samples\n"
     ]
    },
    {
     "data": {
      "text/html": [
       "\n",
       "    <div>\n",
       "        <style>\n",
       "            /* Turns off some styling */\n",
       "            progress {\n",
       "                /* gets rid of default border in Firefox and Opera. */\n",
       "                border: none;\n",
       "                /* Needs to be in here for Safari polyfill so background images work as expected. */\n",
       "                background-size: auto;\n",
       "            }\n",
       "            .progress-bar-interrupted, .progress-bar-interrupted::-webkit-progress-bar {\n",
       "                background: #F44336;\n",
       "            }\n",
       "        </style>\n",
       "      <progress value='0' class='' max='1', style='width:300px; height:20px; vertical-align: middle;'></progress>\n",
       "      0.00% [0/1 00:00<00:00]\n",
       "    </div>\n",
       "    \n",
       "<table border=\"1\" class=\"dataframe\">\n",
       "  <thead>\n",
       "    <tr style=\"text-align: left;\">\n",
       "      <th>epoch</th>\n",
       "      <th>train_loss</th>\n",
       "      <th>valid_loss</th>\n",
       "      <th>accuracy</th>\n",
       "      <th>precision</th>\n",
       "      <th>recall</th>\n",
       "      <th>train_Lx</th>\n",
       "      <th>train_Lu*λ</th>\n",
       "      <th>time</th>\n",
       "    </tr>\n",
       "  </thead>\n",
       "  <tbody>\n",
       "  </tbody>\n",
       "</table><p>\n",
       "\n",
       "    <div>\n",
       "        <style>\n",
       "            /* Turns off some styling */\n",
       "            progress {\n",
       "                /* gets rid of default border in Firefox and Opera. */\n",
       "                border: none;\n",
       "                /* Needs to be in here for Safari polyfill so background images work as expected. */\n",
       "                background-size: auto;\n",
       "            }\n",
       "            .progress-bar-interrupted, .progress-bar-interrupted::-webkit-progress-bar {\n",
       "                background: #F44336;\n",
       "            }\n",
       "        </style>\n",
       "      <progress value='95' class='' max='11916', style='width:300px; height:20px; vertical-align: middle;'></progress>\n",
       "      0.80% [95/11916 00:58<2:01:54 8.1976]\n",
       "    </div>\n",
       "    "
      ],
      "text/plain": [
       "<IPython.core.display.HTML object>"
      ]
     },
     "metadata": {},
     "output_type": "display_data"
    },
    {
     "name": "stdout",
     "output_type": "stream",
     "text": [
      "LR Finder is complete, type {learner_name}.recorder.plot() to see the graph.\n"
     ]
    },
    {
     "data": {
      "image/png": "[encoded data removed]",
      "text/plain": [
       "<Figure size 432x288 with 1 Axes>"
      ]
     },
     "metadata": {
      "needs_background": "light"
     },
     "output_type": "display_data"
    }
   ],
   "source": [
    "learn.lr_find()\n",
    "learn.recorder.plot()"
   ]
  },
  {
   "cell_type": "raw",
   "metadata": {},
   "source": [
    "with gpu_mem_restore_ctx():\n",
    "    learn.lr_find()\n",
    "    learn.recorder.plot()"
   ]
  },
  {
   "cell_type": "code",
   "execution_count": 23,
   "metadata": {},
   "outputs": [
    {
     "data": {
      "text/plain": [
       "1"
      ]
     },
     "execution_count": 23,
     "metadata": {},
     "output_type": "execute_result"
    }
   ],
   "source": [
    "len(learn.layer_groups)"
   ]
  },
  {
   "cell_type": "markdown",
   "metadata": {},
   "source": [
    "**NOTE:** Cannot use differential learning rates since the model isn't divided into layer groups by default"
   ]
  },
  {
   "cell_type": "markdown",
   "metadata": {},
   "source": [
    "`WandbCallback` doesn't seem to work with `WideResNet`. See https://github.com/wandb/client/issues/777"
   ]
  },
  {
   "cell_type": "code",
   "execution_count": 24,
   "metadata": {},
   "outputs": [],
   "source": [
    "def get_callbacks(learner, mod_name, early_stop=True, patience=5, monitor='accuracy', min_delta=0.01):\n",
    "    callbacks=[\n",
    "        SaveModelCallback(learner, every='improvement', name=f'{mod_name}-opt_accuracy', monitor='accuracy'),\n",
    "        SaveModelCallback(learner, every='improvement', name=f'{mod_name}-opt_val_loss'),\n",
    "        CSVLogger        (learner, filename=f'{mod_name}-history'),\n",
    "        WandbCallback    (learner, monitor=monitor, input_type='images', log='all')\n",
    "    ]\n",
    "    if early_stop: callbacks.append(EarlyStoppingCallback(learner, patience=patience, min_delta=min_delta, monitor=monitor))\n",
    "    return callbacks"
   ]
  },
  {
   "cell_type": "code",
   "execution_count": 25,
   "metadata": {},
   "outputs": [],
   "source": [
    "model_name = 'WideResNet-img_100-MixMatch'\n",
    "callbacks = get_callbacks(learn, model_name)"
   ]
  },
  {
   "cell_type": "code",
   "execution_count": 26,
   "metadata": {},
   "outputs": [],
   "source": [
    "learn.save('WideResNet-img_100-MixMatch-opt_accuracy')"
   ]
  },
  {
   "cell_type": "code",
   "execution_count": 27,
   "metadata": {},
   "outputs": [],
   "source": [
    "torch.cuda.empty_cache()"
   ]
  },
  {
   "cell_type": "markdown",
   "metadata": {},
   "source": [
    "### bo"
   ]
  },
  {
   "cell_type": "code",
   "execution_count": null,
   "metadata": {},
   "outputs": [
    {
     "data": {
      "text/html": [
       "\n",
       "    <div>\n",
       "        <style>\n",
       "            /* Turns off some styling */\n",
       "            progress {\n",
       "                /* gets rid of default border in Firefox and Opera. */\n",
       "                border: none;\n",
       "                /* Needs to be in here for Safari polyfill so background images work as expected. */\n",
       "                background-size: auto;\n",
       "            }\n",
       "            .progress-bar-interrupted, .progress-bar-interrupted::-webkit-progress-bar {\n",
       "                background: #F44336;\n",
       "            }\n",
       "        </style>\n",
       "      <progress value='80' class='' max='100', style='width:300px; height:20px; vertical-align: middle;'></progress>\n",
       "      80.00% [80/100 1:30:38<22:39]\n",
       "    </div>\n",
       "    \n",
       "<table border=\"1\" class=\"dataframe\">\n",
       "  <thead>\n",
       "    <tr style=\"text-align: left;\">\n",
       "      <th>epoch</th>\n",
       "      <th>train_loss</th>\n",
       "      <th>valid_loss</th>\n",
       "      <th>accuracy</th>\n",
       "      <th>precision</th>\n",
       "      <th>recall</th>\n",
       "      <th>time</th>\n",
       "    </tr>\n",
       "  </thead>\n",
       "  <tbody>\n",
       "    <tr>\n",
       "      <td>0</td>\n",
       "      <td>1.699285</td>\n",
       "      <td>1.872010</td>\n",
       "      <td>0.237057</td>\n",
       "      <td>0.222091</td>\n",
       "      <td>0.269832</td>\n",
       "      <td>01:15</td>\n",
       "    </tr>\n",
       "    <tr>\n",
       "      <td>1</td>\n",
       "      <td>1.649636</td>\n",
       "      <td>1.837421</td>\n",
       "      <td>0.249046</td>\n",
       "      <td>0.213722</td>\n",
       "      <td>0.275461</td>\n",
       "      <td>01:02</td>\n",
       "    </tr>\n",
       "    <tr>\n",
       "      <td>2</td>\n",
       "      <td>1.591853</td>\n",
       "      <td>1.837914</td>\n",
       "      <td>0.255041</td>\n",
       "      <td>0.250641</td>\n",
       "      <td>0.276063</td>\n",
       "      <td>01:07</td>\n",
       "    </tr>\n",
       "    <tr>\n",
       "      <td>3</td>\n",
       "      <td>1.555390</td>\n",
       "      <td>1.931340</td>\n",
       "      <td>0.269210</td>\n",
       "      <td>0.269462</td>\n",
       "      <td>0.298856</td>\n",
       "      <td>01:05</td>\n",
       "    </tr>\n",
       "    <tr>\n",
       "      <td>4</td>\n",
       "      <td>1.514812</td>\n",
       "      <td>1.942410</td>\n",
       "      <td>0.293733</td>\n",
       "      <td>0.304017</td>\n",
       "      <td>0.319528</td>\n",
       "      <td>01:05</td>\n",
       "    </tr>\n",
       "    <tr>\n",
       "      <td>5</td>\n",
       "      <td>1.477936</td>\n",
       "      <td>1.801882</td>\n",
       "      <td>0.297003</td>\n",
       "      <td>0.318923</td>\n",
       "      <td>0.322443</td>\n",
       "      <td>01:04</td>\n",
       "    </tr>\n",
       "    <tr>\n",
       "      <td>6</td>\n",
       "      <td>1.424440</td>\n",
       "      <td>1.818093</td>\n",
       "      <td>0.329700</td>\n",
       "      <td>0.334217</td>\n",
       "      <td>0.344859</td>\n",
       "      <td>01:05</td>\n",
       "    </tr>\n",
       "    <tr>\n",
       "      <td>7</td>\n",
       "      <td>1.398673</td>\n",
       "      <td>1.808135</td>\n",
       "      <td>0.336966</td>\n",
       "      <td>0.338598</td>\n",
       "      <td>0.349438</td>\n",
       "      <td>01:06</td>\n",
       "    </tr>\n",
       "    <tr>\n",
       "      <td>8</td>\n",
       "      <td>1.360407</td>\n",
       "      <td>1.566182</td>\n",
       "      <td>0.366576</td>\n",
       "      <td>0.385416</td>\n",
       "      <td>0.385411</td>\n",
       "      <td>01:05</td>\n",
       "    </tr>\n",
       "    <tr>\n",
       "      <td>9</td>\n",
       "      <td>1.339059</td>\n",
       "      <td>1.611485</td>\n",
       "      <td>0.394732</td>\n",
       "      <td>0.402409</td>\n",
       "      <td>0.402708</td>\n",
       "      <td>01:05</td>\n",
       "    </tr>\n",
       "    <tr>\n",
       "      <td>10</td>\n",
       "      <td>1.311691</td>\n",
       "      <td>1.586588</td>\n",
       "      <td>0.369119</td>\n",
       "      <td>0.374262</td>\n",
       "      <td>0.388744</td>\n",
       "      <td>01:06</td>\n",
       "    </tr>\n",
       "    <tr>\n",
       "      <td>11</td>\n",
       "      <td>1.296874</td>\n",
       "      <td>2.131930</td>\n",
       "      <td>0.299364</td>\n",
       "      <td>0.345892</td>\n",
       "      <td>0.332161</td>\n",
       "      <td>01:05</td>\n",
       "    </tr>\n",
       "    <tr>\n",
       "      <td>12</td>\n",
       "      <td>1.268089</td>\n",
       "      <td>1.666534</td>\n",
       "      <td>0.395822</td>\n",
       "      <td>0.389600</td>\n",
       "      <td>0.411987</td>\n",
       "      <td>01:10</td>\n",
       "    </tr>\n",
       "    <tr>\n",
       "      <td>13</td>\n",
       "      <td>1.264233</td>\n",
       "      <td>1.646228</td>\n",
       "      <td>0.393097</td>\n",
       "      <td>0.407655</td>\n",
       "      <td>0.429078</td>\n",
       "      <td>01:08</td>\n",
       "    </tr>\n",
       "    <tr>\n",
       "      <td>14</td>\n",
       "      <td>1.254071</td>\n",
       "      <td>1.583755</td>\n",
       "      <td>0.398365</td>\n",
       "      <td>0.407443</td>\n",
       "      <td>0.422685</td>\n",
       "      <td>01:06</td>\n",
       "    </tr>\n",
       "    <tr>\n",
       "      <td>15</td>\n",
       "      <td>1.252075</td>\n",
       "      <td>1.547506</td>\n",
       "      <td>0.382743</td>\n",
       "      <td>0.393743</td>\n",
       "      <td>0.430015</td>\n",
       "      <td>01:08</td>\n",
       "    </tr>\n",
       "    <tr>\n",
       "      <td>16</td>\n",
       "      <td>1.215283</td>\n",
       "      <td>1.562606</td>\n",
       "      <td>0.418529</td>\n",
       "      <td>0.446704</td>\n",
       "      <td>0.460391</td>\n",
       "      <td>01:06</td>\n",
       "    </tr>\n",
       "    <tr>\n",
       "      <td>17</td>\n",
       "      <td>1.239173</td>\n",
       "      <td>1.382882</td>\n",
       "      <td>0.430699</td>\n",
       "      <td>0.428340</td>\n",
       "      <td>0.470500</td>\n",
       "      <td>01:07</td>\n",
       "    </tr>\n",
       "    <tr>\n",
       "      <td>18</td>\n",
       "      <td>1.169671</td>\n",
       "      <td>1.462543</td>\n",
       "      <td>0.426521</td>\n",
       "      <td>0.429868</td>\n",
       "      <td>0.447342</td>\n",
       "      <td>01:06</td>\n",
       "    </tr>\n",
       "    <tr>\n",
       "      <td>19</td>\n",
       "      <td>1.172368</td>\n",
       "      <td>2.504194</td>\n",
       "      <td>0.354768</td>\n",
       "      <td>0.432901</td>\n",
       "      <td>0.360184</td>\n",
       "      <td>01:06</td>\n",
       "    </tr>\n",
       "    <tr>\n",
       "      <td>20</td>\n",
       "      <td>1.167017</td>\n",
       "      <td>1.664325</td>\n",
       "      <td>0.416349</td>\n",
       "      <td>0.408640</td>\n",
       "      <td>0.464358</td>\n",
       "      <td>01:06</td>\n",
       "    </tr>\n",
       "    <tr>\n",
       "      <td>21</td>\n",
       "      <td>1.114704</td>\n",
       "      <td>2.072739</td>\n",
       "      <td>0.364033</td>\n",
       "      <td>0.411981</td>\n",
       "      <td>0.405175</td>\n",
       "      <td>01:05</td>\n",
       "    </tr>\n",
       "    <tr>\n",
       "      <td>22</td>\n",
       "      <td>1.160274</td>\n",
       "      <td>1.729655</td>\n",
       "      <td>0.376930</td>\n",
       "      <td>0.420286</td>\n",
       "      <td>0.412225</td>\n",
       "      <td>01:05</td>\n",
       "    </tr>\n",
       "    <tr>\n",
       "      <td>23</td>\n",
       "      <td>1.097181</td>\n",
       "      <td>1.628798</td>\n",
       "      <td>0.443778</td>\n",
       "      <td>0.472810</td>\n",
       "      <td>0.455756</td>\n",
       "      <td>01:07</td>\n",
       "    </tr>\n",
       "    <tr>\n",
       "      <td>24</td>\n",
       "      <td>1.114501</td>\n",
       "      <td>2.634116</td>\n",
       "      <td>0.282834</td>\n",
       "      <td>0.419604</td>\n",
       "      <td>0.342602</td>\n",
       "      <td>01:12</td>\n",
       "    </tr>\n",
       "    <tr>\n",
       "      <td>25</td>\n",
       "      <td>1.113901</td>\n",
       "      <td>1.544126</td>\n",
       "      <td>0.413624</td>\n",
       "      <td>0.456594</td>\n",
       "      <td>0.448006</td>\n",
       "      <td>01:07</td>\n",
       "    </tr>\n",
       "    <tr>\n",
       "      <td>26</td>\n",
       "      <td>1.079615</td>\n",
       "      <td>1.500217</td>\n",
       "      <td>0.460672</td>\n",
       "      <td>0.459131</td>\n",
       "      <td>0.484443</td>\n",
       "      <td>01:07</td>\n",
       "    </tr>\n",
       "    <tr>\n",
       "      <td>27</td>\n",
       "      <td>1.055024</td>\n",
       "      <td>1.718902</td>\n",
       "      <td>0.381835</td>\n",
       "      <td>0.437857</td>\n",
       "      <td>0.419553</td>\n",
       "      <td>01:06</td>\n",
       "    </tr>\n",
       "    <tr>\n",
       "      <td>28</td>\n",
       "      <td>1.092619</td>\n",
       "      <td>3.272027</td>\n",
       "      <td>0.288828</td>\n",
       "      <td>0.395678</td>\n",
       "      <td>0.336225</td>\n",
       "      <td>01:09</td>\n",
       "    </tr>\n",
       "    <tr>\n",
       "      <td>29</td>\n",
       "      <td>1.096889</td>\n",
       "      <td>2.724319</td>\n",
       "      <td>0.358401</td>\n",
       "      <td>0.382633</td>\n",
       "      <td>0.393107</td>\n",
       "      <td>01:07</td>\n",
       "    </tr>\n",
       "    <tr>\n",
       "      <td>30</td>\n",
       "      <td>1.053135</td>\n",
       "      <td>1.658797</td>\n",
       "      <td>0.433424</td>\n",
       "      <td>0.430757</td>\n",
       "      <td>0.447044</td>\n",
       "      <td>01:06</td>\n",
       "    </tr>\n",
       "    <tr>\n",
       "      <td>31</td>\n",
       "      <td>1.024429</td>\n",
       "      <td>1.483994</td>\n",
       "      <td>0.479382</td>\n",
       "      <td>0.478503</td>\n",
       "      <td>0.501928</td>\n",
       "      <td>01:09</td>\n",
       "    </tr>\n",
       "    <tr>\n",
       "      <td>32</td>\n",
       "      <td>1.061431</td>\n",
       "      <td>2.111430</td>\n",
       "      <td>0.335513</td>\n",
       "      <td>0.455724</td>\n",
       "      <td>0.392686</td>\n",
       "      <td>01:09</td>\n",
       "    </tr>\n",
       "    <tr>\n",
       "      <td>33</td>\n",
       "      <td>1.027576</td>\n",
       "      <td>1.532661</td>\n",
       "      <td>0.463215</td>\n",
       "      <td>0.477522</td>\n",
       "      <td>0.490591</td>\n",
       "      <td>01:07</td>\n",
       "    </tr>\n",
       "    <tr>\n",
       "      <td>34</td>\n",
       "      <td>0.993085</td>\n",
       "      <td>1.344443</td>\n",
       "      <td>0.514078</td>\n",
       "      <td>0.528099</td>\n",
       "      <td>0.530031</td>\n",
       "      <td>01:08</td>\n",
       "    </tr>\n",
       "    <tr>\n",
       "      <td>35</td>\n",
       "      <td>1.031215</td>\n",
       "      <td>1.320294</td>\n",
       "      <td>0.490645</td>\n",
       "      <td>0.491141</td>\n",
       "      <td>0.518512</td>\n",
       "      <td>01:06</td>\n",
       "    </tr>\n",
       "    <tr>\n",
       "      <td>36</td>\n",
       "      <td>1.021849</td>\n",
       "      <td>1.385030</td>\n",
       "      <td>0.480836</td>\n",
       "      <td>0.497364</td>\n",
       "      <td>0.502905</td>\n",
       "      <td>01:07</td>\n",
       "    </tr>\n",
       "    <tr>\n",
       "      <td>37</td>\n",
       "      <td>1.072570</td>\n",
       "      <td>1.522011</td>\n",
       "      <td>0.448865</td>\n",
       "      <td>0.450555</td>\n",
       "      <td>0.480277</td>\n",
       "      <td>01:07</td>\n",
       "    </tr>\n",
       "    <tr>\n",
       "      <td>38</td>\n",
       "      <td>0.997264</td>\n",
       "      <td>1.443998</td>\n",
       "      <td>0.480291</td>\n",
       "      <td>0.483766</td>\n",
       "      <td>0.508572</td>\n",
       "      <td>01:08</td>\n",
       "    </tr>\n",
       "    <tr>\n",
       "      <td>39</td>\n",
       "      <td>0.936850</td>\n",
       "      <td>1.553408</td>\n",
       "      <td>0.440509</td>\n",
       "      <td>0.509659</td>\n",
       "      <td>0.462106</td>\n",
       "      <td>01:07</td>\n",
       "    </tr>\n",
       "    <tr>\n",
       "      <td>40</td>\n",
       "      <td>0.998533</td>\n",
       "      <td>1.628564</td>\n",
       "      <td>0.464668</td>\n",
       "      <td>0.502127</td>\n",
       "      <td>0.484470</td>\n",
       "      <td>01:07</td>\n",
       "    </tr>\n",
       "    <tr>\n",
       "      <td>41</td>\n",
       "      <td>0.922137</td>\n",
       "      <td>2.079822</td>\n",
       "      <td>0.371844</td>\n",
       "      <td>0.411410</td>\n",
       "      <td>0.404121</td>\n",
       "      <td>01:08</td>\n",
       "    </tr>\n",
       "    <tr>\n",
       "      <td>42</td>\n",
       "      <td>0.934187</td>\n",
       "      <td>1.514632</td>\n",
       "      <td>0.470845</td>\n",
       "      <td>0.486426</td>\n",
       "      <td>0.507476</td>\n",
       "      <td>01:07</td>\n",
       "    </tr>\n",
       "    <tr>\n",
       "      <td>43</td>\n",
       "      <td>0.861412</td>\n",
       "      <td>1.639784</td>\n",
       "      <td>0.463942</td>\n",
       "      <td>0.492944</td>\n",
       "      <td>0.488946</td>\n",
       "      <td>01:06</td>\n",
       "    </tr>\n",
       "    <tr>\n",
       "      <td>44</td>\n",
       "      <td>0.883664</td>\n",
       "      <td>1.833838</td>\n",
       "      <td>0.432334</td>\n",
       "      <td>0.459305</td>\n",
       "      <td>0.463025</td>\n",
       "      <td>01:05</td>\n",
       "    </tr>\n",
       "    <tr>\n",
       "      <td>45</td>\n",
       "      <td>0.879133</td>\n",
       "      <td>1.531784</td>\n",
       "      <td>0.463942</td>\n",
       "      <td>0.515361</td>\n",
       "      <td>0.502629</td>\n",
       "      <td>01:11</td>\n",
       "    </tr>\n",
       "    <tr>\n",
       "      <td>46</td>\n",
       "      <td>0.888400</td>\n",
       "      <td>1.790559</td>\n",
       "      <td>0.418710</td>\n",
       "      <td>0.471545</td>\n",
       "      <td>0.464957</td>\n",
       "      <td>01:09</td>\n",
       "    </tr>\n",
       "    <tr>\n",
       "      <td>47</td>\n",
       "      <td>0.859246</td>\n",
       "      <td>1.270851</td>\n",
       "      <td>0.537693</td>\n",
       "      <td>0.537840</td>\n",
       "      <td>0.559069</td>\n",
       "      <td>01:06</td>\n",
       "    </tr>\n",
       "    <tr>\n",
       "      <td>48</td>\n",
       "      <td>0.824086</td>\n",
       "      <td>1.310515</td>\n",
       "      <td>0.548047</td>\n",
       "      <td>0.557466</td>\n",
       "      <td>0.572972</td>\n",
       "      <td>01:07</td>\n",
       "    </tr>\n",
       "    <tr>\n",
       "      <td>49</td>\n",
       "      <td>0.800091</td>\n",
       "      <td>1.479598</td>\n",
       "      <td>0.496276</td>\n",
       "      <td>0.510105</td>\n",
       "      <td>0.509466</td>\n",
       "      <td>01:10</td>\n",
       "    </tr>\n",
       "    <tr>\n",
       "      <td>50</td>\n",
       "      <td>0.811878</td>\n",
       "      <td>1.377535</td>\n",
       "      <td>0.485559</td>\n",
       "      <td>0.512216</td>\n",
       "      <td>0.529908</td>\n",
       "      <td>01:09</td>\n",
       "    </tr>\n",
       "    <tr>\n",
       "      <td>51</td>\n",
       "      <td>0.891437</td>\n",
       "      <td>1.430108</td>\n",
       "      <td>0.489010</td>\n",
       "      <td>0.513614</td>\n",
       "      <td>0.519532</td>\n",
       "      <td>01:06</td>\n",
       "    </tr>\n",
       "    <tr>\n",
       "      <td>52</td>\n",
       "      <td>0.813876</td>\n",
       "      <td>1.394321</td>\n",
       "      <td>0.537875</td>\n",
       "      <td>0.537135</td>\n",
       "      <td>0.557900</td>\n",
       "      <td>01:07</td>\n",
       "    </tr>\n",
       "    <tr>\n",
       "      <td>53</td>\n",
       "      <td>0.810579</td>\n",
       "      <td>1.538494</td>\n",
       "      <td>0.481017</td>\n",
       "      <td>0.503477</td>\n",
       "      <td>0.500746</td>\n",
       "      <td>01:13</td>\n",
       "    </tr>\n",
       "    <tr>\n",
       "      <td>54</td>\n",
       "      <td>0.809875</td>\n",
       "      <td>1.428513</td>\n",
       "      <td>0.511535</td>\n",
       "      <td>0.532172</td>\n",
       "      <td>0.542295</td>\n",
       "      <td>01:05</td>\n",
       "    </tr>\n",
       "    <tr>\n",
       "      <td>55</td>\n",
       "      <td>0.740383</td>\n",
       "      <td>1.396415</td>\n",
       "      <td>0.541508</td>\n",
       "      <td>0.564370</td>\n",
       "      <td>0.551013</td>\n",
       "      <td>01:07</td>\n",
       "    </tr>\n",
       "    <tr>\n",
       "      <td>56</td>\n",
       "      <td>0.778628</td>\n",
       "      <td>1.430585</td>\n",
       "      <td>0.488647</td>\n",
       "      <td>0.519154</td>\n",
       "      <td>0.507058</td>\n",
       "      <td>01:09</td>\n",
       "    </tr>\n",
       "    <tr>\n",
       "      <td>57</td>\n",
       "      <td>0.709371</td>\n",
       "      <td>1.534967</td>\n",
       "      <td>0.501181</td>\n",
       "      <td>0.523387</td>\n",
       "      <td>0.535846</td>\n",
       "      <td>01:07</td>\n",
       "    </tr>\n",
       "    <tr>\n",
       "      <td>58</td>\n",
       "      <td>0.765460</td>\n",
       "      <td>1.481803</td>\n",
       "      <td>0.520436</td>\n",
       "      <td>0.540689</td>\n",
       "      <td>0.549157</td>\n",
       "      <td>01:07</td>\n",
       "    </tr>\n",
       "    <tr>\n",
       "      <td>59</td>\n",
       "      <td>0.685669</td>\n",
       "      <td>1.315399</td>\n",
       "      <td>0.556767</td>\n",
       "      <td>0.567872</td>\n",
       "      <td>0.576253</td>\n",
       "      <td>01:06</td>\n",
       "    </tr>\n",
       "    <tr>\n",
       "      <td>60</td>\n",
       "      <td>0.683622</td>\n",
       "      <td>1.474771</td>\n",
       "      <td>0.500636</td>\n",
       "      <td>0.505172</td>\n",
       "      <td>0.536502</td>\n",
       "      <td>01:07</td>\n",
       "    </tr>\n",
       "    <tr>\n",
       "      <td>61</td>\n",
       "      <td>0.650523</td>\n",
       "      <td>1.312981</td>\n",
       "      <td>0.551499</td>\n",
       "      <td>0.559995</td>\n",
       "      <td>0.577962</td>\n",
       "      <td>01:06</td>\n",
       "    </tr>\n",
       "    <tr>\n",
       "      <td>62</td>\n",
       "      <td>0.689278</td>\n",
       "      <td>1.317611</td>\n",
       "      <td>0.550045</td>\n",
       "      <td>0.549227</td>\n",
       "      <td>0.576922</td>\n",
       "      <td>01:09</td>\n",
       "    </tr>\n",
       "    <tr>\n",
       "      <td>63</td>\n",
       "      <td>0.686532</td>\n",
       "      <td>1.408942</td>\n",
       "      <td>0.556948</td>\n",
       "      <td>0.569323</td>\n",
       "      <td>0.572652</td>\n",
       "      <td>01:09</td>\n",
       "    </tr>\n",
       "    <tr>\n",
       "      <td>64</td>\n",
       "      <td>0.577914</td>\n",
       "      <td>1.367874</td>\n",
       "      <td>0.563124</td>\n",
       "      <td>0.576027</td>\n",
       "      <td>0.578149</td>\n",
       "      <td>01:05</td>\n",
       "    </tr>\n",
       "    <tr>\n",
       "      <td>65</td>\n",
       "      <td>0.600851</td>\n",
       "      <td>1.502131</td>\n",
       "      <td>0.548047</td>\n",
       "      <td>0.554693</td>\n",
       "      <td>0.578128</td>\n",
       "      <td>01:13</td>\n",
       "    </tr>\n",
       "    <tr>\n",
       "      <td>66</td>\n",
       "      <td>0.597097</td>\n",
       "      <td>1.443360</td>\n",
       "      <td>0.534242</td>\n",
       "      <td>0.542787</td>\n",
       "      <td>0.556239</td>\n",
       "      <td>01:09</td>\n",
       "    </tr>\n",
       "    <tr>\n",
       "      <td>67</td>\n",
       "      <td>0.582599</td>\n",
       "      <td>1.326210</td>\n",
       "      <td>0.553860</td>\n",
       "      <td>0.563317</td>\n",
       "      <td>0.575748</td>\n",
       "      <td>01:09</td>\n",
       "    </tr>\n",
       "    <tr>\n",
       "      <td>68</td>\n",
       "      <td>0.633834</td>\n",
       "      <td>1.468442</td>\n",
       "      <td>0.541689</td>\n",
       "      <td>0.542652</td>\n",
       "      <td>0.565108</td>\n",
       "      <td>01:09</td>\n",
       "    </tr>\n",
       "    <tr>\n",
       "      <td>69</td>\n",
       "      <td>0.570742</td>\n",
       "      <td>1.328757</td>\n",
       "      <td>0.548229</td>\n",
       "      <td>0.554778</td>\n",
       "      <td>0.579808</td>\n",
       "      <td>01:08</td>\n",
       "    </tr>\n",
       "    <tr>\n",
       "      <td>70</td>\n",
       "      <td>0.566070</td>\n",
       "      <td>1.482897</td>\n",
       "      <td>0.524977</td>\n",
       "      <td>0.530309</td>\n",
       "      <td>0.561677</td>\n",
       "      <td>01:07</td>\n",
       "    </tr>\n",
       "    <tr>\n",
       "      <td>71</td>\n",
       "      <td>0.538547</td>\n",
       "      <td>1.489555</td>\n",
       "      <td>0.545686</td>\n",
       "      <td>0.559578</td>\n",
       "      <td>0.571292</td>\n",
       "      <td>01:07</td>\n",
       "    </tr>\n",
       "    <tr>\n",
       "      <td>72</td>\n",
       "      <td>0.502606</td>\n",
       "      <td>1.471230</td>\n",
       "      <td>0.544596</td>\n",
       "      <td>0.562584</td>\n",
       "      <td>0.575179</td>\n",
       "      <td>01:05</td>\n",
       "    </tr>\n",
       "    <tr>\n",
       "      <td>73</td>\n",
       "      <td>0.519739</td>\n",
       "      <td>1.383561</td>\n",
       "      <td>0.561671</td>\n",
       "      <td>0.562491</td>\n",
       "      <td>0.586566</td>\n",
       "      <td>01:08</td>\n",
       "    </tr>\n",
       "    <tr>\n",
       "      <td>74</td>\n",
       "      <td>0.495395</td>\n",
       "      <td>1.491942</td>\n",
       "      <td>0.529337</td>\n",
       "      <td>0.529355</td>\n",
       "      <td>0.562116</td>\n",
       "      <td>01:07</td>\n",
       "    </tr>\n",
       "    <tr>\n",
       "      <td>75</td>\n",
       "      <td>0.484750</td>\n",
       "      <td>1.382895</td>\n",
       "      <td>0.570572</td>\n",
       "      <td>0.577563</td>\n",
       "      <td>0.589878</td>\n",
       "      <td>01:11</td>\n",
       "    </tr>\n",
       "    <tr>\n",
       "      <td>76</td>\n",
       "      <td>0.485579</td>\n",
       "      <td>1.465867</td>\n",
       "      <td>0.559310</td>\n",
       "      <td>0.561124</td>\n",
       "      <td>0.579807</td>\n",
       "      <td>01:10</td>\n",
       "    </tr>\n",
       "    <tr>\n",
       "      <td>77</td>\n",
       "      <td>0.471823</td>\n",
       "      <td>1.412909</td>\n",
       "      <td>0.550227</td>\n",
       "      <td>0.549703</td>\n",
       "      <td>0.576800</td>\n",
       "      <td>01:09</td>\n",
       "    </tr>\n",
       "    <tr>\n",
       "      <td>78</td>\n",
       "      <td>0.431692</td>\n",
       "      <td>1.450949</td>\n",
       "      <td>0.558220</td>\n",
       "      <td>0.562736</td>\n",
       "      <td>0.580800</td>\n",
       "      <td>01:10</td>\n",
       "    </tr>\n",
       "    <tr>\n",
       "      <td>79</td>\n",
       "      <td>0.436905</td>\n",
       "      <td>1.447620</td>\n",
       "      <td>0.560945</td>\n",
       "      <td>0.567286</td>\n",
       "      <td>0.585441</td>\n",
       "      <td>01:07</td>\n",
       "    </tr>\n",
       "  </tbody>\n",
       "</table><p>\n",
       "\n",
       "    <div>\n",
       "        <style>\n",
       "            /* Turns off some styling */\n",
       "            progress {\n",
       "                /* gets rid of default border in Firefox and Opera. */\n",
       "                border: none;\n",
       "                /* Needs to be in here for Safari polyfill so background images work as expected. */\n",
       "                background-size: auto;\n",
       "            }\n",
       "            .progress-bar-interrupted, .progress-bar-interrupted::-webkit-progress-bar {\n",
       "                background: #F44336;\n",
       "            }\n",
       "        </style>\n",
       "      <progress value='214' class='' max='689', style='width:300px; height:20px; vertical-align: middle;'></progress>\n",
       "      31.06% [214/689 00:16<00:36]\n",
       "    </div>\n",
       "    "
      ],
      "text/plain": [
       "<IPython.core.display.HTML object>"
      ]
     },
     "metadata": {},
     "output_type": "display_data"
    },
    {
     "name": "stderr",
     "output_type": "stream",
     "text": [
      "Error generating diff: Command '['git', 'diff', '--submodule=diff', '747359307a168f411ffb9fcfe9d768f1d7920bfd']' timed out after 5 seconds\n"
     ]
    },
    {
     "name": "stdout",
     "output_type": "stream",
     "text": [
      "Better model found at epoch 0 with valid_loss value: 1.872009515762329.\n"
     ]
    },
    {
     "name": "stderr",
     "output_type": "stream",
     "text": [
      "/home/rahul/fastai/fastai/metrics.py:191: UserWarning: average=`binary` was selected for a non binary case. Value for average has now been set to `macro` instead.\n",
      "  warn(\"average=`binary` was selected for a non binary case. Value for average has now been set to `macro` instead.\")\n"
     ]
    },
    {
     "name": "stdout",
     "output_type": "stream",
     "text": [
      "Better model found at epoch 1 with valid_loss value: 1.8374207019805908.\n",
      "Better model found at epoch 5 with valid_loss value: 1.8018817901611328.\n",
      "Better model found at epoch 8 with valid_loss value: 1.566182017326355.\n",
      "Better model found at epoch 15 with valid_loss value: 1.5475058555603027.\n",
      "Better model found at epoch 17 with valid_loss value: 1.3828818798065186.\n",
      "Better model found at epoch 34 with valid_loss value: 1.344443440437317.\n",
      "Better model found at epoch 35 with valid_loss value: 1.3202942609786987.\n",
      "Better model found at epoch 47 with valid_loss value: 1.270851492881775.\n"
     ]
    }
   ],
   "source": [
    "with gpu_mem_restore_ctx():\n",
    "    learn.fit_one_cycle(100, 1e-3, callbacks=[WandbCallback(learn, log='all')])"
   ]
  },
  {
   "cell_type": "code",
   "execution_count": null,
   "metadata": {},
   "outputs": [],
   "source": []
  },
  {
   "cell_type": "code",
   "execution_count": null,
   "metadata": {},
   "outputs": [],
   "source": []
  },
  {
   "cell_type": "code",
   "execution_count": null,
   "metadata": {},
   "outputs": [],
   "source": []
  },
  {
   "cell_type": "code",
   "execution_count": null,
   "metadata": {},
   "outputs": [],
   "source": []
  },
  {
   "cell_type": "code",
   "execution_count": null,
   "metadata": {},
   "outputs": [],
   "source": []
  },
  {
   "cell_type": "code",
   "execution_count": null,
   "metadata": {},
   "outputs": [],
   "source": []
  },
  {
   "cell_type": "code",
   "execution_count": null,
   "metadata": {},
   "outputs": [],
   "source": []
  },
  {
   "cell_type": "code",
   "execution_count": null,
   "metadata": {},
   "outputs": [],
   "source": []
  },
  {
   "cell_type": "code",
   "execution_count": null,
   "metadata": {},
   "outputs": [],
   "source": []
  },
  {
   "cell_type": "code",
   "execution_count": null,
   "metadata": {},
   "outputs": [],
   "source": []
  },
  {
   "cell_type": "code",
   "execution_count": null,
   "metadata": {},
   "outputs": [],
   "source": []
  },
  {
   "cell_type": "code",
   "execution_count": null,
   "metadata": {},
   "outputs": [],
   "source": []
  },
  {
   "cell_type": "code",
   "execution_count": null,
   "metadata": {},
   "outputs": [],
   "source": []
  },
  {
   "cell_type": "code",
   "execution_count": null,
   "metadata": {},
   "outputs": [],
   "source": []
  }
 ],
 "metadata": {
  "kernelspec": {
   "display_name": "Python 3",
   "language": "python",
   "name": "python3"
  },
  "language_info": {
   "codemirror_mode": {
    "name": "ipython",
    "version": 3
   },
   "file_extension": ".py",
   "mimetype": "text/x-python",
   "name": "python",
   "nbconvert_exporter": "python",
   "pygments_lexer": "ipython3",
   "version": "3.7.4"
  }
 },
 "nbformat": 4,
 "nbformat_minor": 2
}
